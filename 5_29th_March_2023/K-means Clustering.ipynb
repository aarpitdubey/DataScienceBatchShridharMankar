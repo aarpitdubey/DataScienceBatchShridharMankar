{
 "cells": [
  {
   "cell_type": "code",
   "execution_count": 1,
   "id": "c910b2d3",
   "metadata": {},
   "outputs": [
    {
     "data": {
      "text/html": [
       "<div>\n",
       "<style scoped>\n",
       "    .dataframe tbody tr th:only-of-type {\n",
       "        vertical-align: middle;\n",
       "    }\n",
       "\n",
       "    .dataframe tbody tr th {\n",
       "        vertical-align: top;\n",
       "    }\n",
       "\n",
       "    .dataframe thead th {\n",
       "        text-align: right;\n",
       "    }\n",
       "</style>\n",
       "<table border=\"1\" class=\"dataframe\">\n",
       "  <thead>\n",
       "    <tr style=\"text-align: right;\">\n",
       "      <th></th>\n",
       "      <th>name</th>\n",
       "      <th>Age</th>\n",
       "      <th>Salary</th>\n",
       "    </tr>\n",
       "  </thead>\n",
       "  <tbody>\n",
       "    <tr>\n",
       "      <th>0</th>\n",
       "      <td>A</td>\n",
       "      <td>40</td>\n",
       "      <td>6500</td>\n",
       "    </tr>\n",
       "    <tr>\n",
       "      <th>1</th>\n",
       "      <td>B</td>\n",
       "      <td>41</td>\n",
       "      <td>6300</td>\n",
       "    </tr>\n",
       "    <tr>\n",
       "      <th>2</th>\n",
       "      <td>C</td>\n",
       "      <td>43</td>\n",
       "      <td>6400</td>\n",
       "    </tr>\n",
       "    <tr>\n",
       "      <th>3</th>\n",
       "      <td>D</td>\n",
       "      <td>39</td>\n",
       "      <td>8000</td>\n",
       "    </tr>\n",
       "    <tr>\n",
       "      <th>4</th>\n",
       "      <td>E</td>\n",
       "      <td>36</td>\n",
       "      <td>15600</td>\n",
       "    </tr>\n",
       "  </tbody>\n",
       "</table>\n",
       "</div>"
      ],
      "text/plain": [
       "  name  Age  Salary\n",
       "0    A   40    6500\n",
       "1    B   41    6300\n",
       "2    C   43    6400\n",
       "3    D   39    8000\n",
       "4    E   36   15600"
      ]
     },
     "execution_count": 1,
     "metadata": {},
     "output_type": "execute_result"
    }
   ],
   "source": [
    "from sklearn.cluster import KMeans\n",
    "import pandas as pd\n",
    "from sklearn.preprocessing import MinMaxScaler\n",
    "from matplotlib import pyplot as plt\n",
    "sal_df = pd.read_csv('Dataset/Salary.csv')\n",
    "sal_df.head()"
   ]
  },
  {
   "cell_type": "code",
   "execution_count": 2,
   "id": "b459e2ae",
   "metadata": {},
   "outputs": [
    {
     "data": {
      "text/plain": [
       "Text(0, 0.5, 'Salary')"
      ]
     },
     "execution_count": 2,
     "metadata": {},
     "output_type": "execute_result"
    },
    {
     "data": {
      "image/png": "[encoded data removed]",
      "text/plain": [
       "<Figure size 432x288 with 1 Axes>"
      ]
     },
     "metadata": {
      "needs_background": "light"
     },
     "output_type": "display_data"
    }
   ],
   "source": [
    "plt.scatter(sal_df.Age, sal_df['Salary'])\n",
    "plt.xlabel('Age')\n",
    "plt.ylabel('Salary')"
   ]
  },
  {
   "cell_type": "code",
   "execution_count": 3,
   "id": "34ce8e92",
   "metadata": {},
   "outputs": [
    {
     "data": {
      "text/plain": [
       "array([1, 1, 1, 2, 0, 0, 0, 1, 1, 1, 1, 1, 2, 2, 1, 1, 0, 0, 0, 0])"
      ]
     },
     "execution_count": 3,
     "metadata": {},
     "output_type": "execute_result"
    }
   ],
   "source": [
    "km = KMeans(n_clusters=3)\n",
    "predicted = km.fit_predict(sal_df[['Age', 'Salary']])\n",
    "predicted"
   ]
  },
  {
   "cell_type": "code",
   "execution_count": 4,
   "id": "d2970513",
   "metadata": {},
   "outputs": [
    {
     "data": {
      "text/plain": [
       "Text(0, 0.5, 'salary')"
      ]
     },
     "execution_count": 4,
     "metadata": {},
     "output_type": "execute_result"
    },
    {
     "data": {
      "image/png": "[encoded data removed]",
      "text/plain": [
       "<Figure size 432x288 with 1 Axes>"
      ]
     },
     "metadata": {
      "needs_background": "light"
     },
     "output_type": "display_data"
    }
   ],
   "source": [
    "sal_df['cluster'] = predicted\n",
    "\n",
    "sal_df1 = sal_df[sal_df.cluster==0]\n",
    "sal_df2 = sal_df[sal_df.cluster==1]\n",
    "sal_df3 = sal_df[sal_df.cluster==2]\n",
    "\n",
    "plt.scatter(sal_df1.Age, sal_df1['Salary'], color='green')\n",
    "plt.scatter(sal_df2.Age, sal_df2['Salary'], color='red')\n",
    "plt.scatter(sal_df3.Age, sal_df3['Salary'], color='blue')\n",
    "\n",
    "plt.xlabel('Age')\n",
    "plt.ylabel('salary')"
   ]
  },
  {
   "cell_type": "markdown",
   "id": "1754d7fb",
   "metadata": {},
   "source": [
    "**Observation :** We can see there are mis-matching in cluster blue mix with green and green mix with blue datapoints \n",
    "\n",
    "**Reason :** This happened because of wider range or not fix range of features, they don't have proper scaling.\n",
    "\n",
    "**Solution :** We can use the MinMaxScaler() and Transform and update the salary values."
   ]
  },
  {
   "cell_type": "code",
   "execution_count": 5,
   "id": "8efa134b",
   "metadata": {},
   "outputs": [],
   "source": [
    "scale = MinMaxScaler()\n",
    "\n",
    "scale.fit(sal_df[['Salary']])\n",
    "sal_df['Salary'] = scale.transform(sal_df[['Salary']])"
   ]
  },
  {
   "cell_type": "code",
   "execution_count": 6,
   "id": "6cc35fd3",
   "metadata": {},
   "outputs": [],
   "source": [
    "scale.fit(sal_df[['Age']])\n",
    "sal_df['Age'] = scale.transform(sal_df[['Age']])"
   ]
  },
  {
   "cell_type": "code",
   "execution_count": 7,
   "id": "bcba7156",
   "metadata": {},
   "outputs": [
    {
     "data": {
      "text/plain": [
       "array([2, 2, 2, 2, 1, 1, 1, 0, 0, 0, 0, 0, 0, 0, 0, 0, 1, 1, 1, 1])"
      ]
     },
     "execution_count": 7,
     "metadata": {},
     "output_type": "execute_result"
    }
   ],
   "source": [
    "km = KMeans(n_clusters=3)\n",
    "predicted = km.fit_predict(sal_df[['Age', 'Salary']])\n",
    "predicted"
   ]
  },
  {
   "cell_type": "code",
   "execution_count": 8,
   "id": "41e0bb95",
   "metadata": {},
   "outputs": [],
   "source": [
    "sal_df = sal_df.drop(['cluster'], axis='columns')"
   ]
  },
  {
   "cell_type": "code",
   "execution_count": 9,
   "id": "9c94928b",
   "metadata": {},
   "outputs": [
    {
     "data": {
      "text/plain": [
       "Text(0, 0.5, 'salary')"
      ]
     },
     "execution_count": 9,
     "metadata": {},
     "output_type": "execute_result"
    },
    {
     "data": {
      "image/png": "[encoded data removed]",
      "text/plain": [
       "<Figure size 432x288 with 1 Axes>"
      ]
     },
     "metadata": {
      "needs_background": "light"
     },
     "output_type": "display_data"
    }
   ],
   "source": [
    "sal_df['cluster'] = predicted\n",
    "\n",
    "sal_df1 = sal_df[sal_df.cluster==0]\n",
    "sal_df2 = sal_df[sal_df.cluster==1]\n",
    "sal_df3 = sal_df[sal_df.cluster==2]\n",
    "\n",
    "plt.scatter(sal_df1.Age, sal_df1['Salary'], color='green')\n",
    "plt.scatter(sal_df2.Age, sal_df2['Salary'], color='red')\n",
    "plt.scatter(sal_df3.Age, sal_df3['Salary'], color='blue')\n",
    "\n",
    "plt.xlabel('Age')\n",
    "plt.ylabel('salary')"
   ]
  },
  {
   "cell_type": "code",
   "execution_count": 10,
   "id": "dd7de822",
   "metadata": {},
   "outputs": [
    {
     "data": {
      "text/plain": [
       "array([[0.1372549 , 0.11585945],\n",
       "       [0.72268908, 0.8974359 ],\n",
       "       [0.86764706, 0.1965812 ]])"
      ]
     },
     "execution_count": 10,
     "metadata": {},
     "output_type": "execute_result"
    }
   ],
   "source": [
    "km.cluster_centers_"
   ]
  }
 ],
 "metadata": {
  "kernelspec": {
   "display_name": "Python 3 (ipykernel)",
   "language": "python",
   "name": "python3"
  },
  "language_info": {
   "codemirror_mode": {
    "name": "ipython",
    "version": 3
   },
   "file_extension": ".py",
   "mimetype": "text/x-python",
   "name": "python",
   "nbconvert_exporter": "python",
   "pygments_lexer": "ipython3",
   "version": "3.7.0"
  }
 },
 "nbformat": 4,
 "nbformat_minor": 5
}
