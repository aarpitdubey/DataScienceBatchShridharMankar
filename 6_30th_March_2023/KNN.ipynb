{
 "cells": [
  {
   "cell_type": "code",
   "execution_count": 1,
   "id": "d1c3a317",
   "metadata": {},
   "outputs": [
    {
     "data": {
      "text/html": [
       "<div>\n",
       "<style scoped>\n",
       "    .dataframe tbody tr th:only-of-type {\n",
       "        vertical-align: middle;\n",
       "    }\n",
       "\n",
       "    .dataframe tbody tr th {\n",
       "        vertical-align: top;\n",
       "    }\n",
       "\n",
       "    .dataframe thead th {\n",
       "        text-align: right;\n",
       "    }\n",
       "</style>\n",
       "<table border=\"1\" class=\"dataframe\">\n",
       "  <thead>\n",
       "    <tr style=\"text-align: right;\">\n",
       "      <th></th>\n",
       "      <th>Age</th>\n",
       "      <th>Income</th>\n",
       "      <th>Car</th>\n",
       "    </tr>\n",
       "  </thead>\n",
       "  <tbody>\n",
       "    <tr>\n",
       "      <th>0</th>\n",
       "      <td>28</td>\n",
       "      <td>37000</td>\n",
       "      <td>0</td>\n",
       "    </tr>\n",
       "    <tr>\n",
       "      <th>1</th>\n",
       "      <td>27</td>\n",
       "      <td>88000</td>\n",
       "      <td>0</td>\n",
       "    </tr>\n",
       "    <tr>\n",
       "      <th>2</th>\n",
       "      <td>28</td>\n",
       "      <td>59000</td>\n",
       "      <td>0</td>\n",
       "    </tr>\n",
       "    <tr>\n",
       "      <th>3</th>\n",
       "      <td>32</td>\n",
       "      <td>86000</td>\n",
       "      <td>0</td>\n",
       "    </tr>\n",
       "    <tr>\n",
       "      <th>4</th>\n",
       "      <td>33</td>\n",
       "      <td>149000</td>\n",
       "      <td>1</td>\n",
       "    </tr>\n",
       "    <tr>\n",
       "      <th>5</th>\n",
       "      <td>19</td>\n",
       "      <td>21000</td>\n",
       "      <td>0</td>\n",
       "    </tr>\n",
       "    <tr>\n",
       "      <th>6</th>\n",
       "      <td>21</td>\n",
       "      <td>72000</td>\n",
       "      <td>0</td>\n",
       "    </tr>\n",
       "    <tr>\n",
       "      <th>7</th>\n",
       "      <td>26</td>\n",
       "      <td>35000</td>\n",
       "      <td>0</td>\n",
       "    </tr>\n",
       "    <tr>\n",
       "      <th>8</th>\n",
       "      <td>27</td>\n",
       "      <td>89000</td>\n",
       "      <td>0</td>\n",
       "    </tr>\n",
       "    <tr>\n",
       "      <th>9</th>\n",
       "      <td>26</td>\n",
       "      <td>86000</td>\n",
       "      <td>0</td>\n",
       "    </tr>\n",
       "  </tbody>\n",
       "</table>\n",
       "</div>"
      ],
      "text/plain": [
       "   Age  Income  Car\n",
       "0   28   37000    0\n",
       "1   27   88000    0\n",
       "2   28   59000    0\n",
       "3   32   86000    0\n",
       "4   33  149000    1\n",
       "5   19   21000    0\n",
       "6   21   72000    0\n",
       "7   26   35000    0\n",
       "8   27   89000    0\n",
       "9   26   86000    0"
      ]
     },
     "execution_count": 1,
     "metadata": {},
     "output_type": "execute_result"
    }
   ],
   "source": [
    "import pandas as pd\n",
    "knn_df = pd.read_csv('Dataset/Car.csv')\n",
    "X = knn_df[['Age', 'Income']]\n",
    "y = knn_df[['Car']]\n",
    "knn_df.head(10)"
   ]
  },
  {
   "cell_type": "code",
   "execution_count": 2,
   "id": "cc397d0a",
   "metadata": {},
   "outputs": [],
   "source": [
    "from sklearn.model_selection import train_test_split\n",
    "X_train, X_test, y_train, y_test = train_test_split(X, y, test_size=0.4, random_state=0)"
   ]
  },
  {
   "cell_type": "code",
   "execution_count": 3,
   "id": "59df1025",
   "metadata": {},
   "outputs": [
    {
     "name": "stdout",
     "output_type": "stream",
     "text": [
      "**************************************************\n",
      "                     X_train                      \n",
      "    Age  Income\n",
      "1    27   88000\n",
      "61   32  100000\n",
      "42   18   68000\n",
      "41   19   85000\n",
      "4    33  149000\n",
      "15   42   80000\n",
      "17   35   75000\n",
      "40   19   25000\n",
      "38   30  107000\n",
      "5    19   21000\n",
      "91   24   84000\n",
      "59   26   30000\n",
      "0    28   37000\n",
      "34   21   68000\n",
      "28   26   32000\n",
      "50   20   74000\n",
      "11   39   71000\n",
      "35   28   55000\n",
      "23   40   75000\n",
      "52   41   45000\n",
      "10   38   80000\n",
      "31   31   58000\n",
      "66   18   86000\n",
      "57   46   59000\n",
      "79   24   23000\n",
      "85   33   60000\n",
      "32   33   31000\n",
      "84   33   43000\n",
      "14   37   55000\n",
      "89   35   72000\n",
      "19   40   59000\n",
      "29   30   17000\n",
      "49   29   61000\n",
      "97   30   79000\n",
      "98   20   36000\n",
      "69   29  148000\n",
      "20   41   59000\n",
      "94   19   70000\n",
      "72   34  115000\n",
      "77   35   47000\n",
      "25   41   51000\n",
      "37   20   82000\n",
      "81   26   16000\n",
      "46   24   89000\n",
      "39   28   59000\n",
      "65   33   69000\n",
      "58   29   75000\n",
      "12   37   71000\n",
      "88   33   41000\n",
      "70   29   47000\n",
      "87   20   82000\n",
      "36   23   63000\n",
      "21   36   75000\n",
      "83   32  117000\n",
      "9    26   86000\n",
      "96   34   43000\n",
      "67   22   55000\n",
      "64   35   38000\n",
      "47   27   96000\n",
      "44   30   89000\n",
      "**************************************************\n",
      "**************************************************\n",
      "                      X_test                      \n",
      "    Age  Income\n",
      "26   39   61000\n",
      "86   31   66000\n",
      "2    28   59000\n",
      "55   40   47000\n",
      "75   34   72000\n",
      "93   29   43000\n",
      "16   40   57000\n",
      "73   26  118000\n",
      "54   36   50000\n",
      "95   28   89000\n",
      "53   31   76000\n",
      "92   19   26000\n",
      "78   25   22000\n",
      "13   38   61000\n",
      "7    26   35000\n",
      "30   26   84000\n",
      "22   37   72000\n",
      "24   35   53000\n",
      "33   30   87000\n",
      "8    27   89000\n",
      "43   35   59000\n",
      "62   25   90000\n",
      "3    32   86000\n",
      "71   21   88000\n",
      "45   34   25000\n",
      "48   41   30000\n",
      "6    21   72000\n",
      "99   26   80000\n",
      "82   31   71000\n",
      "76   23   28000\n",
      "60   32  135000\n",
      "80   31   34000\n",
      "90   28   32000\n",
      "68   35   71000\n",
      "51   26   15000\n",
      "27   42   65000\n",
      "18   36   52000\n",
      "56   31   15000\n",
      "63   37   33000\n",
      "74   34   43000\n",
      "**************************************************\n",
      "**************************************************\n",
      "                     y_train                      \n",
      "    Car\n",
      "1     0\n",
      "61    1\n",
      "42    0\n",
      "41    0\n",
      "4     1\n",
      "15    0\n",
      "17    0\n",
      "40    0\n",
      "38    1\n",
      "5     0\n",
      "91    0\n",
      "59    0\n",
      "0     0\n",
      "34    0\n",
      "28    0\n",
      "50    0\n",
      "11    0\n",
      "35    0\n",
      "23    0\n",
      "52    0\n",
      "10    0\n",
      "31    0\n",
      "66    0\n",
      "57    0\n",
      "79    0\n",
      "85    0\n",
      "32    0\n",
      "84    0\n",
      "14    0\n",
      "89    0\n",
      "19    0\n",
      "29    0\n",
      "49    0\n",
      "97    0\n",
      "98    0\n",
      "69    1\n",
      "20    0\n",
      "94    0\n",
      "72    0\n",
      "77    0\n",
      "25    0\n",
      "37    0\n",
      "81    0\n",
      "46    0\n",
      "39    0\n",
      "65    0\n",
      "58    0\n",
      "12    0\n",
      "88    0\n",
      "70    0\n",
      "87    0\n",
      "36    0\n",
      "21    0\n",
      "83    1\n",
      "9     0\n",
      "96    0\n",
      "67    0\n",
      "64    0\n",
      "47    1\n",
      "44    0\n",
      "**************************************************\n",
      "**************************************************\n",
      "                      y_test                      \n",
      "    Car\n",
      "26    0\n",
      "86    0\n",
      "2     0\n",
      "55    0\n",
      "75    0\n",
      "93    0\n",
      "16    0\n",
      "73    0\n",
      "54    0\n",
      "95    0\n",
      "53    0\n",
      "92    0\n",
      "78    0\n",
      "13    0\n",
      "7     0\n",
      "30    0\n",
      "22    0\n",
      "24    0\n",
      "33    0\n",
      "8     0\n",
      "43    0\n",
      "62    0\n",
      "3     0\n",
      "71    0\n",
      "45    0\n",
      "48    0\n",
      "6     0\n",
      "99    0\n",
      "82    0\n",
      "76    0\n",
      "60    1\n",
      "80    0\n",
      "90    0\n",
      "68    0\n",
      "51    0\n",
      "27    0\n",
      "18    0\n",
      "56    0\n",
      "63    0\n",
      "74    0\n",
      "**************************************************\n"
     ]
    }
   ],
   "source": [
    "print('*'*50)\n",
    "print('X_train'.center(50))\n",
    "print(X_train)\n",
    "print('*'*50)\n",
    "\n",
    "print('*'*50)\n",
    "print('X_test'.center(50))\n",
    "print(X_test)\n",
    "print('*'*50)\n",
    "\n",
    "print('*'*50)\n",
    "print('y_train'.center(50))\n",
    "print(y_train)\n",
    "print('*'*50)\n",
    "\n",
    "print('*'*50)\n",
    "print('y_test'.center(50))\n",
    "print(y_test)\n",
    "print('*'*50)"
   ]
  },
  {
   "cell_type": "code",
   "execution_count": 4,
   "id": "a52d0682",
   "metadata": {},
   "outputs": [
    {
     "name": "stderr",
     "output_type": "stream",
     "text": [
      "C:\\Users\\arpit\\Anaconda3\\lib\\site-packages\\sklearn\\neighbors\\_classification.py:198: DataConversionWarning: A column-vector y was passed when a 1d array was expected. Please change the shape of y to (n_samples,), for example using ravel().\n",
      "  return self._fit(X, y)\n"
     ]
    },
    {
     "data": {
      "text/plain": [
       "KNeighborsClassifier(n_neighbors=2)"
      ]
     },
     "execution_count": 4,
     "metadata": {},
     "output_type": "execute_result"
    }
   ],
   "source": [
    "from sklearn.neighbors import KNeighborsClassifier\n",
    "knnclf = KNeighborsClassifier(n_neighbors=2)\n",
    "knnclf.fit(X_train, y_train)"
   ]
  },
  {
   "cell_type": "code",
   "execution_count": 5,
   "id": "4b335ffb",
   "metadata": {},
   "outputs": [
    {
     "name": "stdout",
     "output_type": "stream",
     "text": [
      "[0]\n"
     ]
    },
    {
     "name": "stderr",
     "output_type": "stream",
     "text": [
      "C:\\Users\\arpit\\Anaconda3\\lib\\site-packages\\sklearn\\base.py:451: UserWarning: X does not have valid feature names, but KNeighborsClassifier was fitted with feature names\n",
      "  \"X does not have valid feature names, but\"\n"
     ]
    }
   ],
   "source": [
    "print(knnclf.predict([[60, 8500]]))"
   ]
  },
  {
   "cell_type": "code",
   "execution_count": 6,
   "id": "63aff813",
   "metadata": {},
   "outputs": [
    {
     "data": {
      "text/plain": [
       "1.0"
      ]
     },
     "execution_count": 6,
     "metadata": {},
     "output_type": "execute_result"
    }
   ],
   "source": [
    "knnclf.score(X_test, y_test)"
   ]
  },
  {
   "cell_type": "code",
   "execution_count": 7,
   "id": "ef122c1e",
   "metadata": {},
   "outputs": [
    {
     "data": {
      "text/plain": [
       "array([0, 0, 0, 0, 0, 0, 0, 0, 0, 0, 0, 0, 0, 0, 0, 0, 0, 0, 0, 0, 0, 0,\n",
       "       0, 0, 0, 0, 0, 0, 0, 0, 1, 0, 0, 0, 0, 0, 0, 0, 0, 0], dtype=int64)"
      ]
     },
     "execution_count": 7,
     "metadata": {},
     "output_type": "execute_result"
    }
   ],
   "source": [
    "y_pred = knnclf.predict(X_test)\n",
    "y_pred"
   ]
  },
  {
   "cell_type": "code",
   "execution_count": 8,
   "id": "9cea8dc3",
   "metadata": {},
   "outputs": [
    {
     "data": {
      "text/plain": [
       "array([[39,  0],\n",
       "       [ 0,  1]], dtype=int64)"
      ]
     },
     "execution_count": 8,
     "metadata": {},
     "output_type": "execute_result"
    }
   ],
   "source": [
    "from sklearn.metrics import confusion_matrix, ConfusionMatrixDisplay\n",
    "cm = confusion_matrix(y_test, y_pred)\n",
    "cm"
   ]
  },
  {
   "cell_type": "code",
   "execution_count": 9,
   "id": "5b987e5d",
   "metadata": {},
   "outputs": [],
   "source": [
    "import matplotlib.pyplot as plt"
   ]
  },
  {
   "cell_type": "code",
   "execution_count": 10,
   "id": "9e8977f8",
   "metadata": {},
   "outputs": [],
   "source": [
    "disp = ConfusionMatrixDisplay(confusion_matrix=cm,\n",
    "                             display_labels=knnclf.classes_)"
   ]
  },
  {
   "cell_type": "code",
   "execution_count": 11,
   "id": "05727f91",
   "metadata": {},
   "outputs": [
    {
     "data": {
      "text/plain": [
       "<sklearn.metrics._plot.confusion_matrix.ConfusionMatrixDisplay at 0x26e1139d5f8>"
      ]
     },
     "execution_count": 11,
     "metadata": {},
     "output_type": "execute_result"
    },
    {
     "data": {
      "image/png": "[encoded data removed]",
      "text/plain": [
       "<Figure size 432x288 with 2 Axes>"
      ]
     },
     "metadata": {
      "needs_background": "light"
     },
     "output_type": "display_data"
    }
   ],
   "source": [
    "disp.plot()"
   ]
  }
 ],
 "metadata": {
  "kernelspec": {
   "display_name": "Python 3 (ipykernel)",
   "language": "python",
   "name": "python3"
  },
  "language_info": {
   "codemirror_mode": {
    "name": "ipython",
    "version": 3
   },
   "file_extension": ".py",
   "mimetype": "text/x-python",
   "name": "python",
   "nbconvert_exporter": "python",
   "pygments_lexer": "ipython3",
   "version": "3.7.0"
  }
 },
 "nbformat": 4,
 "nbformat_minor": 5
}
